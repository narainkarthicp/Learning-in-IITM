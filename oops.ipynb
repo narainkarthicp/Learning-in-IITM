{
 "cells": [
  {
   "metadata": {},
   "cell_type": "markdown",
   "source": "# ToDo: I need formal understanding of class and object.\n",
   "id": "87ad4d8d6fd3d9cd"
  },
  {
   "metadata": {},
   "cell_type": "markdown",
   "source": [
    "#### my_calss, it's an basic class\n",
    "#### How attributes work ?\n",
    "#### creating instance ?"
   ],
   "id": "3ba28985e86f32b9"
  },
  {
   "cell_type": "code",
   "id": "initial_id",
   "metadata": {
    "collapsed": true
   },
   "source": [
    "from dask.array import append\n",
    "\n",
    "\n",
    "class my_class: #class name\n",
    "    x = 10 # property (or) attributes\n",
    "\n",
    "# creating an object for the class\n",
    "\n",
    "p1 = my_class() # why I'm using () ? // it's special kind of __init__() it will call automatically -> ()\n",
    "print(p1.x) # will print the value of x in the class"
   ],
   "outputs": [],
   "execution_count": null
  },
  {
   "metadata": {},
   "cell_type": "markdown",
   "source": [
    "#### The class person, how different way we can call a method.\n",
    "#### seen special function __init__() and __str__()"
   ],
   "id": "a0d82df3dffc9748"
  },
  {
   "metadata": {},
   "cell_type": "code",
   "source": [
    "class Person: # it said as class definition\n",
    "  def __init__(self, name, age):\n",
    "    self.name = name\n",
    "    self.age = age\n",
    "\n",
    "  def display(self):\n",
    "      print(self.name, self.age,\"Yeah it's printed !! \")\n",
    "\n",
    "  def __str__(self):\n",
    "      return f\"{self.name}({self.age})\"\n",
    "\n"
   ],
   "id": "512fa208f665a10e",
   "outputs": [],
   "execution_count": null
  },
  {
   "metadata": {},
   "cell_type": "code",
   "source": [
    "p1 = Person(\"kumar\",34)\n",
    "\n",
    "# Try to figure out, what name for each calling method ?\n",
    "\n",
    "p1.display() # here we call method using object\n",
    "print(p1) #\n",
    "print(p1.name)\n",
    "print(p1.age) # accessing attribute directly"
   ],
   "id": "43c2d1ce40ab9fc2",
   "outputs": [],
   "execution_count": null
  },
  {
   "metadata": {},
   "cell_type": "markdown",
   "source": "### how we can edit attribute in the class ?\n",
   "id": "4b53c9667c7d1884"
  },
  {
   "metadata": {},
   "cell_type": "code",
   "source": [
    "class Person:\n",
    "    def __init__(self, name = \"ram\", age = 23):\n",
    "        self.name = name\n",
    "        self.age = age\n",
    "\n",
    "\n",
    "\n",
    "p1 = Person(\"Kumar\", 34)\n",
    "\n",
    "print(\"Before modify the Attributes\")\n",
    "print(p1.name)  # Ravi\n",
    "print(p1.age)   # 35\n",
    "\n",
    "# ✅ Modify the attribute directly\n",
    "p1.name = \"Ravi\"\n",
    "p1.age = 35\n",
    "\n",
    "print(\"\\nAfter modifying the Attributes\")\n",
    "print(p1.name)  # Ravi\n",
    "print(p1.age)   # 35\n",
    "\n",
    "p = Person()\n",
    "print(\"\\nPrinting default attributes\")\n",
    "print(p.name)\n",
    "print(p.age)"
   ],
   "id": "93ac407167f6229e",
   "outputs": [],
   "execution_count": null
  },
  {
   "metadata": {},
   "cell_type": "markdown",
   "source": [
    "## Inheritance\n",
    "\n",
    "#### Parent class and child class"
   ],
   "id": "855238bbd35c767d"
  },
  {
   "metadata": {},
   "cell_type": "code",
   "source": [
    "class Person:\n",
    "  def __init__(self, fname, lname):\n",
    "    self.firstname = fname\n",
    "    self.lastname = lname\n",
    "\n",
    "  def printname(self):\n",
    "    print(self.firstname, self.lastname)\n",
    "\n",
    "#Use the Person class to create an object, and then execute the printname method:\n",
    "\n",
    "class Student(Person):\n",
    "    def dis(self):\n",
    "        print(self.firstname+self.lastname)\n",
    "\n",
    "# From child class accessing method and attribute\n",
    "\n",
    "x = Student(\"Mike\", \"Olsen\")\n",
    "x.printname()\n",
    "x.dis()"
   ],
   "id": "cc3ac96591519647",
   "outputs": [],
   "execution_count": null
  },
  {
   "metadata": {},
   "cell_type": "markdown",
   "source": "#### would I able to access attributes and method from child class from parent ??",
   "id": "e72b6a0325bd7075"
  },
  {
   "metadata": {},
   "cell_type": "code",
   "source": [
    "\n",
    "test_list = [1,2,3,4,5,6,7,8,9]\n",
    "\n",
    "class Person:\n",
    "  def __init__(self, fname, lname):\n",
    "    print(\"chelamea I'm ur Maa !!\")\n",
    "    self.firstname = fname\n",
    "    self.lastname = lname\n",
    "    test_list.append(100)\n",
    "\n",
    "  def printname(self):\n",
    "    print(self.firstname, self.lastname)\n",
    "\n",
    "class Grand_parents():\n",
    "    def __init__(self):\n",
    "        print(\"Grandparents work\")\n",
    "\n",
    "class Student(Person, Grand_parents):\n",
    "    def __init__(self, name, namee):\n",
    "        print(\"mame I'm student !!\")\n",
    "        self.firstname = name\n",
    "        self.lastname = namee\n",
    "        Person.__init__(self,name, namee)\n",
    "        Grand_parents.__init__(self)\n",
    "\n",
    "    def dis(self):\n",
    "        print(self.firstname,\"Testing\",self.lastname)\n",
    "\n",
    "x = Student(\"Mike\", \"Olsen\")\n",
    "x.printname()\n",
    "x.dis()\n",
    "print(test_list)\n"
   ],
   "id": "2d681412cd577609",
   "outputs": [],
   "execution_count": null
  },
  {
   "metadata": {},
   "cell_type": "markdown",
   "source": "# Comprehension",
   "id": "ccb51554f691f750"
  },
  {
   "metadata": {
    "ExecuteTime": {
     "end_time": "2025-07-08T14:37:21.146786Z",
     "start_time": "2025-07-08T14:37:21.134838Z"
    }
   },
   "cell_type": "code",
   "source": [
    "numbers = []\n",
    "for x in range(10):\n",
    "    if x % 2 != 0:\n",
    "        numbers.append(x ** 2)\n",
    "print(numbers)"
   ],
   "id": "6260a9db8f9d4d9d",
   "outputs": [
    {
     "name": "stdout",
     "output_type": "stream",
     "text": [
      "[1, 9, 25, 49, 81]\n"
     ]
    }
   ],
   "execution_count": 25
  },
  {
   "metadata": {
    "ExecuteTime": {
     "end_time": "2025-07-08T14:38:12.358626Z",
     "start_time": "2025-07-08T14:38:12.356285Z"
    }
   },
   "cell_type": "code",
   "source": [
    "numbers = [ x**2 for x in range(10) if x%2 != 0]\n",
    "print(numbers)"
   ],
   "id": "33b627d4df333e4b",
   "outputs": [
    {
     "name": "stdout",
     "output_type": "stream",
     "text": [
      "[1, 9, 25, 49, 81]\n"
     ]
    }
   ],
   "execution_count": 26
  },
  {
   "metadata": {},
   "cell_type": "code",
   "source": "",
   "id": "74546e335dd73eae",
   "outputs": [],
   "execution_count": null
  }
 ],
 "metadata": {
  "kernelspec": {
   "display_name": "Python [conda env:base] *",
   "language": "python",
   "name": "conda-base-py"
  },
  "language_info": {
   "codemirror_mode": {
    "name": "ipython",
    "version": 2
   },
   "file_extension": ".py",
   "mimetype": "text/x-python",
   "name": "python",
   "nbconvert_exporter": "python",
   "pygments_lexer": "ipython2",
   "version": "2.7.6"
  }
 },
 "nbformat": 4,
 "nbformat_minor": 5
}
